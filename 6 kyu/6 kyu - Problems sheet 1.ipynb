{
 "cells": [
  {
   "cell_type": "markdown",
   "id": "stretch-store",
   "metadata": {},
   "source": [
    "# 01 Replace With Alphabet Position"
   ]
  },
  {
   "cell_type": "markdown",
   "id": "pending-circus",
   "metadata": {},
   "source": [
    "Welcome.\n",
    "\n",
    "In this kata you are required to, given a string, replace every letter with its position in the alphabet.\n",
    "\n",
    "If anything in the text isn't a letter, ignore it and don't return it.\n",
    "\n",
    "\"a\" = 1, \"b\" = 2, etc.\n",
    "\n",
    "<h4>Example</h4>\n",
    "    alphabet_position(\"The sunset sets at twelve o' clock.\")\n",
    "    <br>\n",
    "Should return \"20 8 5 19 21 14 19 5 20 19 5 20 19 1 20 20 23 5 12 22 5 15 3 12 15 3 11\" (as a string)\n",
    "\n",
    "FUNDAMENTALS STRINGS"
   ]
  },
  {
   "cell_type": "code",
   "execution_count": 3,
   "id": "complimentary-praise",
   "metadata": {},
   "outputs": [
    {
     "name": "stdout",
     "output_type": "stream",
     "text": [
      "20 8 5 19 21 14 19 5 20 19 5 20 19 1 20 20 23 5 12 22 5 15 3 12 15 3 11\n",
      "20 8 5 14 1 18 23 8 1 12 2 1 3 15 14 19 1 20 13 9 4 14 9 7 8 20\n",
      "\n"
     ]
    }
   ],
   "source": [
    "import string\n",
    "\n",
    "def alphabet_position(text):\n",
    "    text = text.lower()\n",
    "    alphabet = \"\"\n",
    "    for i in text:\n",
    "        if (i in string.ascii_letters):\n",
    "            position = string.ascii_letters.index(i) + 1\n",
    "            alphabet += str(position) + \" \"\n",
    "    \n",
    "    return alphabet[:-1]\n",
    "\n",
    "print(alphabet_position(\"The sunset sets at twelve o' clock.\"))\n",
    "print(alphabet_position(\"The narwhal bacons at midnight.\"))\n",
    "print(alphabet_position(\"\"))"
   ]
  },
  {
   "cell_type": "code",
   "execution_count": null,
   "id": "detected-desperate",
   "metadata": {},
   "outputs": [],
   "source": []
  }
 ],
 "metadata": {
  "kernelspec": {
   "display_name": "Python 3",
   "language": "python",
   "name": "python3"
  },
  "language_info": {
   "codemirror_mode": {
    "name": "ipython",
    "version": 3
   },
   "file_extension": ".py",
   "mimetype": "text/x-python",
   "name": "python",
   "nbconvert_exporter": "python",
   "pygments_lexer": "ipython3",
   "version": "3.8.5"
  }
 },
 "nbformat": 4,
 "nbformat_minor": 5
}
