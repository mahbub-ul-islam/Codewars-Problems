{
 "cells": [
  {
   "cell_type": "markdown",
   "id": "together-package",
   "metadata": {},
   "source": [
    "# 01 Evens and Odds"
   ]
  },
  {
   "cell_type": "markdown",
   "id": "random-malta",
   "metadata": {},
   "source": [
    "This kata is about converting numbers to their binary or hexadecimal representation:\n",
    "\n",
    "    If a number is even, convert it to binary.\n",
    "    If a number is odd, convert it to hex.\n",
    "\n",
    "Fundamentals"
   ]
  },
  {
   "cell_type": "code",
   "execution_count": 10,
   "id": "adult-triumph",
   "metadata": {},
   "outputs": [
    {
     "name": "stdout",
     "output_type": "stream",
     "text": [
      "10\n",
      "d\n"
     ]
    }
   ],
   "source": [
    "def evens_and_odds(n):\n",
    "    #your code here\n",
    "    if (n%2 ==0):\n",
    "        return bin(n).replace(\"0b\", \"\")\n",
    "    else:\n",
    "        return hex(n).replace(\"0x\", \"\")\n",
    "\n",
    "\n",
    "print(evens_and_odds(2))\n",
    "print(evens_and_odds(13))"
   ]
  },
  {
   "cell_type": "markdown",
   "id": "known-scheme",
   "metadata": {},
   "source": [
    "# 02 Mumbling"
   ]
  },
  {
   "cell_type": "markdown",
   "id": "stainless-ballet",
   "metadata": {},
   "source": [
    "This time no story, no theory. The examples below show you how to write function accum:\n",
    "\n",
    "Examples:\n",
    "\n",
    "    accum(\"abcd\") -> \"A-Bb-Ccc-Dddd\"\n",
    "    accum(\"RqaEzty\") -> \"R-Qq-Aaa-Eeee-Zzzzz-Tttttt-Yyyyyyy\"\n",
    "    accum(\"cwAt\") -> \"C-Ww-Aaa-Tttt\"\n",
    "\n",
    "The parameter of accum is a string which includes only letters from a..z and A..Z.\n",
    "\n",
    "Fundamentals"
   ]
  },
  {
   "cell_type": "code",
   "execution_count": 24,
   "id": "spread-constitutional",
   "metadata": {},
   "outputs": [
    {
     "name": "stdout",
     "output_type": "stream",
     "text": [
      "1\n",
      "N\n",
      "-\n",
      "2\n",
      "N\n",
      "n\n",
      "-\n",
      "3\n",
      "N\n",
      "n\n",
      "n\n",
      "-\n",
      "4\n",
      "N\n",
      "n\n",
      "n\n",
      "n\n",
      "-\n",
      "N-Nn-Nnn-Nnnn\n"
     ]
    }
   ],
   "source": [
    "def accum(s):\n",
    "    alphabet = \"\"\n",
    "    for i in range(len(s)):\n",
    "        print(i+1)\n",
    "        for j in range(0, i+1):\n",
    "            if (j == 0):\n",
    "                print(s[i].upper())\n",
    "                alphabet +=s[i].upper()\n",
    "            else:\n",
    "                print(s[i])\n",
    "                alphabet += s[i].lower()\n",
    "        print(\"-\")\n",
    "        alphabet += \"-\"\n",
    "    return alphabet[:-1]\n",
    "    \n",
    "    \n",
    "print(accum(\"nnnn\"))"
   ]
  },
  {
   "cell_type": "code",
   "execution_count": null,
   "id": "administrative-reserve",
   "metadata": {},
   "outputs": [],
   "source": []
  }
 ],
 "metadata": {
  "kernelspec": {
   "display_name": "Python 3",
   "language": "python",
   "name": "python3"
  },
  "language_info": {
   "codemirror_mode": {
    "name": "ipython",
    "version": 3
   },
   "file_extension": ".py",
   "mimetype": "text/x-python",
   "name": "python",
   "nbconvert_exporter": "python",
   "pygments_lexer": "ipython3",
   "version": "3.8.5"
  }
 },
 "nbformat": 4,
 "nbformat_minor": 5
}
