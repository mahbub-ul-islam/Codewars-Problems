{
 "cells": [
  {
   "cell_type": "markdown",
   "id": "together-package",
   "metadata": {},
   "source": [
    "# 01 Evens and Odds"
   ]
  },
  {
   "cell_type": "markdown",
   "id": "random-malta",
   "metadata": {},
   "source": [
    "This kata is about converting numbers to their binary or hexadecimal representation:\n",
    "\n",
    "    If a number is even, convert it to binary.\n",
    "    If a number is odd, convert it to hex.\n",
    "\n",
    "Fundamentals"
   ]
  },
  {
   "cell_type": "code",
   "execution_count": 10,
   "id": "adult-triumph",
   "metadata": {},
   "outputs": [
    {
     "name": "stdout",
     "output_type": "stream",
     "text": [
      "10\n",
      "d\n"
     ]
    }
   ],
   "source": [
    "def evens_and_odds(n):\n",
    "    #your code here\n",
    "    if (n%2 ==0):\n",
    "        return bin(n).replace(\"0b\", \"\")\n",
    "    else:\n",
    "        return hex(n).replace(\"0x\", \"\")\n",
    "\n",
    "\n",
    "print(evens_and_odds(2))\n",
    "print(evens_and_odds(13))"
   ]
  },
  {
   "cell_type": "code",
   "execution_count": null,
   "id": "premium-ancient",
   "metadata": {},
   "outputs": [],
   "source": []
  },
  {
   "cell_type": "code",
   "execution_count": null,
   "id": "colonial-gross",
   "metadata": {},
   "outputs": [],
   "source": []
  }
 ],
 "metadata": {
  "kernelspec": {
   "display_name": "Python 3",
   "language": "python",
   "name": "python3"
  },
  "language_info": {
   "codemirror_mode": {
    "name": "ipython",
    "version": 3
   },
   "file_extension": ".py",
   "mimetype": "text/x-python",
   "name": "python",
   "nbconvert_exporter": "python",
   "pygments_lexer": "ipython3",
   "version": "3.8.5"
  }
 },
 "nbformat": 4,
 "nbformat_minor": 5
}
