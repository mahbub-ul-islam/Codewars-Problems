{
 "cells": [
  {
   "cell_type": "markdown",
   "id": "equipped-import",
   "metadata": {},
   "source": [
    "# 11 Area or Perimeter"
   ]
  },
  {
   "cell_type": "markdown",
   "id": "simple-father",
   "metadata": {},
   "source": [
    "You are given the length and width of a 4-sided polygon. The polygon can either be a rectangle or a square.\n",
    "If it is a square, return its area. If it is a rectangle, return its perimeter.\n",
    "\n",
    "area_or_perimeter(6, 10) --> 32\n",
    "area_or_perimeter(3, 3) --> 9\n",
    "\n",
    "    Note: for the purposes of this kata you will assume that it is a square if its length and width are equal, otherwise it is a rectangle.\n",
    "\n",
    "Fundamentals"
   ]
  },
  {
   "cell_type": "code",
   "execution_count": 11,
   "id": "communist-darwin",
   "metadata": {},
   "outputs": [
    {
     "name": "stdout",
     "output_type": "stream",
     "text": [
      "16\n",
      "32\n"
     ]
    }
   ],
   "source": [
    "def area_or_perimeter(l , w):\n",
    "    if (l==w):\n",
    "        # square solve by area A = l * w\n",
    "        return l*w\n",
    "    else:\n",
    "        # area of rectangle solve by perimeter A = 2(l+w)\n",
    "        return (2*(l+w))\n",
    "    \n",
    "print(area_or_perimeter(4, 4))  #, 16)\n",
    "print(area_or_perimeter(6, 10))  #, 32)"
   ]
  },
  {
   "cell_type": "code",
   "execution_count": null,
   "id": "tender-operations",
   "metadata": {},
   "outputs": [],
   "source": []
  },
  {
   "cell_type": "code",
   "execution_count": null,
   "id": "stylish-diary",
   "metadata": {},
   "outputs": [],
   "source": []
  },
  {
   "cell_type": "code",
   "execution_count": null,
   "id": "worst-trace",
   "metadata": {},
   "outputs": [],
   "source": []
  },
  {
   "cell_type": "code",
   "execution_count": null,
   "id": "secret-psychiatry",
   "metadata": {},
   "outputs": [],
   "source": []
  },
  {
   "cell_type": "code",
   "execution_count": null,
   "id": "cooked-theory",
   "metadata": {},
   "outputs": [],
   "source": []
  },
  {
   "cell_type": "code",
   "execution_count": null,
   "id": "secret-feedback",
   "metadata": {},
   "outputs": [],
   "source": []
  },
  {
   "cell_type": "code",
   "execution_count": null,
   "id": "protective-evanescence",
   "metadata": {},
   "outputs": [],
   "source": []
  },
  {
   "cell_type": "code",
   "execution_count": null,
   "id": "psychological-administration",
   "metadata": {},
   "outputs": [],
   "source": []
  },
  {
   "cell_type": "code",
   "execution_count": null,
   "id": "charitable-observation",
   "metadata": {},
   "outputs": [],
   "source": []
  },
  {
   "cell_type": "code",
   "execution_count": null,
   "id": "innocent-federation",
   "metadata": {},
   "outputs": [],
   "source": []
  },
  {
   "cell_type": "code",
   "execution_count": null,
   "id": "legitimate-dispatch",
   "metadata": {},
   "outputs": [],
   "source": []
  },
  {
   "cell_type": "code",
   "execution_count": null,
   "id": "progressive-congress",
   "metadata": {},
   "outputs": [],
   "source": []
  },
  {
   "cell_type": "code",
   "execution_count": null,
   "id": "dress-yeast",
   "metadata": {},
   "outputs": [],
   "source": []
  }
 ],
 "metadata": {
  "kernelspec": {
   "display_name": "Python 3",
   "language": "python",
   "name": "python3"
  },
  "language_info": {
   "codemirror_mode": {
    "name": "ipython",
    "version": 3
   },
   "file_extension": ".py",
   "mimetype": "text/x-python",
   "name": "python",
   "nbconvert_exporter": "python",
   "pygments_lexer": "ipython3",
   "version": "3.8.5"
  }
 },
 "nbformat": 4,
 "nbformat_minor": 5
}
