{
 "cells": [
  {
   "cell_type": "markdown",
   "id": "numerous-harvey",
   "metadata": {},
   "source": [
    "# 01 How many lightsabers do you own?"
   ]
  },
  {
   "cell_type": "markdown",
   "id": "convinced-designer",
   "metadata": {},
   "source": [
    "Inspired by the development team at Vooza, write the function that\n",
    "\n",
    "    accepts the name of a programmer, and\n",
    "    returns the number of lightsabers owned by that person.\n",
    "\n",
    "The only person who owns lightsabers is Zach, by the way. He owns 18, which is an awesome number of lightsabers. Anyone else owns 0.\n",
    "\n",
    "Note: your function should have a default parameter.\n",
    "\n",
    "For example(Input --> Output):\n",
    "\n",
    "\"anyone else\" --> 0<br>\n",
    "\"Zach\" --> 18\n",
    "\n",
    "Fundamentals\n"
   ]
  },
  {
   "cell_type": "code",
   "execution_count": 7,
   "id": "introductory-leave",
   "metadata": {},
   "outputs": [],
   "source": [
    "def how_many_light_sabers_do_you_own(name=\"\"):\n",
    "    if (name == \"Zach\"):\n",
    "        return 18\n",
    "    else:\n",
    "        return 0"
   ]
  },
  {
   "cell_type": "code",
   "execution_count": 8,
   "id": "hindu-reserve",
   "metadata": {},
   "outputs": [
    {
     "name": "stdout",
     "output_type": "stream",
     "text": [
      "18\n",
      "0\n",
      "0\n"
     ]
    }
   ],
   "source": [
    "print(how_many_light_sabers_do_you_own(\"Zach\"))\n",
    "print(how_many_light_sabers_do_you_own())\n",
    "print(how_many_light_sabers_do_you_own(\"zach\"))"
   ]
  },
  {
   "cell_type": "code",
   "execution_count": null,
   "id": "applicable-theory",
   "metadata": {},
   "outputs": [],
   "source": []
  },
  {
   "cell_type": "code",
   "execution_count": null,
   "id": "graduate-atlantic",
   "metadata": {},
   "outputs": [],
   "source": []
  }
 ],
 "metadata": {
  "kernelspec": {
   "display_name": "Python 3",
   "language": "python",
   "name": "python3"
  },
  "language_info": {
   "codemirror_mode": {
    "name": "ipython",
    "version": 3
   },
   "file_extension": ".py",
   "mimetype": "text/x-python",
   "name": "python",
   "nbconvert_exporter": "python",
   "pygments_lexer": "ipython3",
   "version": "3.8.5"
  }
 },
 "nbformat": 4,
 "nbformat_minor": 5
}
