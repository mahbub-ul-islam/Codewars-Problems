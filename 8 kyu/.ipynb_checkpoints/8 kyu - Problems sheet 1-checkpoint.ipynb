{
 "cells": [
  {
   "cell_type": "markdown",
   "id": "numerous-harvey",
   "metadata": {},
   "source": [
    "# 01 How many lightsabers do you own?"
   ]
  },
  {
   "cell_type": "markdown",
   "id": "convinced-designer",
   "metadata": {},
   "source": [
    "Inspired by the development team at Vooza, write the function that\n",
    "\n",
    "    accepts the name of a programmer, and\n",
    "    returns the number of lightsabers owned by that person.\n",
    "\n",
    "The only person who owns lightsabers is Zach, by the way. He owns 18, which is an awesome number of lightsabers. Anyone else owns 0.\n",
    "\n",
    "Note: your function should have a default parameter.\n",
    "\n",
    "For example(Input --> Output):\n",
    "\n",
    "\"anyone else\" --> 0<br>\n",
    "\"Zach\" --> 18\n",
    "\n",
    "Fundamentals\n"
   ]
  },
  {
   "cell_type": "code",
   "execution_count": 7,
   "id": "introductory-leave",
   "metadata": {},
   "outputs": [],
   "source": [
    "def how_many_light_sabers_do_you_own(name=\"\"):\n",
    "    if (name == \"Zach\"):\n",
    "        return 18\n",
    "    else:\n",
    "        return 0"
   ]
  },
  {
   "cell_type": "code",
   "execution_count": 8,
   "id": "hindu-reserve",
   "metadata": {},
   "outputs": [
    {
     "name": "stdout",
     "output_type": "stream",
     "text": [
      "18\n",
      "0\n",
      "0\n"
     ]
    }
   ],
   "source": [
    "print(how_many_light_sabers_do_you_own(\"Zach\"))\n",
    "print(how_many_light_sabers_do_you_own())\n",
    "print(how_many_light_sabers_do_you_own(\"zach\"))"
   ]
  },
  {
   "cell_type": "markdown",
   "id": "joint-webmaster",
   "metadata": {},
   "source": [
    "# 02 Greek Sort"
   ]
  },
  {
   "cell_type": "markdown",
   "id": "diagnostic-hunger",
   "metadata": {},
   "source": [
    "Write a comparator for a list of phonetic words for the letters of the greek alphabet.\n",
    "\n",
    "A comparator is:\n",
    "\n",
    "    a custom comparison function of two arguments (iterable elements) which should return a negative, zero or positive number depending on whether the first argument is considered smaller than, equal to, or larger than the second argument\n",
    "\n",
    "(source: https://docs.python.org/2/library/functions.html#sorted)\n",
    "\n",
    "The greek alphabet is preloded for you as greek_alphabet:\n",
    "\n",
    "greek_alphabet = (<br>\n",
    "&emsp;    'alpha', 'beta', 'gamma', 'delta', 'epsilon', 'zeta',<br>\n",
    "&emsp;    'eta', 'theta', 'iota', 'kappa', 'lambda', 'mu',<br>\n",
    "&emsp;    'nu', 'xi', 'omicron', 'pi', 'rho', 'sigma',<br>\n",
    "&emsp;    'tau', 'upsilon', 'phi', 'chi', 'psi', 'omega')<br>\n",
    "\n",
    "Examples\n",
    "\n",
    "    greek_comparator('alpha', 'beta')   <  0<br>\n",
    "    greek_comparator('psi', 'psi')      == 0<br>\n",
    "    greek_comparator('upsilon', 'rho')  >  0<br>\n",
    "\n",
    "Fundamentals"
   ]
  },
  {
   "cell_type": "code",
   "execution_count": 57,
   "id": "breeding-ratio",
   "metadata": {},
   "outputs": [],
   "source": [
    "greek_alphabet = (\n",
    "    'alpha', 'beta', 'gamma', 'delta', 'epsilon', 'zeta', \n",
    "    'eta', 'theta', 'iota', 'kappa', 'lambda', 'mu', \n",
    "    'nu', 'xi', 'omicron', 'pi', 'rho', 'sigma',\n",
    "    'tau', 'upsilon', 'phi', 'chi', 'psi', 'omega')"
   ]
  },
  {
   "cell_type": "code",
   "execution_count": 58,
   "id": "nuclear-healing",
   "metadata": {},
   "outputs": [],
   "source": [
    "def greek_comparator(lhs, rhs):\n",
    "    # the tuple greek_alphabet is defined in the global namespace\n",
    "    return int(greek_alphabet.index(lhs)) - int(greek_alphabet.index(rhs))"
   ]
  },
  {
   "cell_type": "code",
   "execution_count": 59,
   "id": "outside-joining",
   "metadata": {},
   "outputs": [
    {
     "name": "stdout",
     "output_type": "stream",
     "text": [
      "-1\n",
      "0\n",
      "3\n"
     ]
    }
   ],
   "source": [
    "print(greek_comparator('alpha', 'beta'))\n",
    "print(greek_comparator('psi', 'psi'))\n",
    "print(greek_comparator('upsilon', 'rho'))"
   ]
  },
  {
   "cell_type": "markdown",
   "id": "common-latex",
   "metadata": {},
   "source": [
    "# 03 Vowel remover"
   ]
  },
  {
   "cell_type": "markdown",
   "id": "heavy-investor",
   "metadata": {},
   "source": [
    "Create a function called shortcut to remove all the lowercase vowels in a given string.\n",
    "Examples:\n",
    "\n",
    "    shortcut(\"codewars\") # --> cdwrs\n",
    "    shortcut(\"goodbye\")  # --> gdby\n",
    "\n",
    "Don't worry about uppercase vowels.\n",
    "\n",
    "Fundamentals \n",
    "Strings \n",
    "Parsing \n",
    "Algorithms "
   ]
  },
  {
   "cell_type": "code",
   "execution_count": 74,
   "id": "convinced-equilibrium",
   "metadata": {},
   "outputs": [
    {
     "name": "stdout",
     "output_type": "stream",
     "text": [
      "hll\n"
     ]
    }
   ],
   "source": [
    "def shortcut( s ):\n",
    "    return s.translate( {ord(i):  None   for i in 'aeiou'}  )\n",
    "\n",
    "print(shortcut(\"hello\"))"
   ]
  },
  {
   "cell_type": "markdown",
   "id": "inclusive-dietary",
   "metadata": {},
   "source": [
    "# Opposites Attract"
   ]
  },
  {
   "cell_type": "markdown",
   "id": "indoor-crossing",
   "metadata": {},
   "source": [
    "Timmy & Sarah think they are in love, but around where they live, they will only know once they pick a flower each. If one of the flowers has an even number of petals and the other has an odd number of petals it means they are in love.\n",
    "\n",
    "Write a function that will take the number of petals of each flower and return true if they are in love and false if they aren't.\n"
   ]
  },
  {
   "cell_type": "code",
   "execution_count": null,
   "id": "magnetic-tunnel",
   "metadata": {},
   "outputs": [],
   "source": [
    "def lovefunc( flower1, flower2 ):\n",
    "    return (first_flower == second_flower)\n",
    "\n",
    "\n",
    "lovefunc(1,4)\n",
    "lovefunc(2,2)\n",
    "lovefunc(0,1)\n",
    "lovefunc(0,0)"
   ]
  },
  {
   "cell_type": "code",
   "execution_count": null,
   "id": "civilian-holocaust",
   "metadata": {},
   "outputs": [],
   "source": []
  },
  {
   "cell_type": "code",
   "execution_count": null,
   "id": "decent-chinese",
   "metadata": {},
   "outputs": [],
   "source": []
  },
  {
   "cell_type": "code",
   "execution_count": null,
   "id": "exclusive-median",
   "metadata": {},
   "outputs": [],
   "source": []
  },
  {
   "cell_type": "code",
   "execution_count": null,
   "id": "center-journalist",
   "metadata": {},
   "outputs": [],
   "source": []
  }
 ],
 "metadata": {
  "kernelspec": {
   "display_name": "Python 3",
   "language": "python",
   "name": "python3"
  },
  "language_info": {
   "codemirror_mode": {
    "name": "ipython",
    "version": 3
   },
   "file_extension": ".py",
   "mimetype": "text/x-python",
   "name": "python",
   "nbconvert_exporter": "python",
   "pygments_lexer": "ipython3",
   "version": "3.8.5"
  }
 },
 "nbformat": 4,
 "nbformat_minor": 5
}
