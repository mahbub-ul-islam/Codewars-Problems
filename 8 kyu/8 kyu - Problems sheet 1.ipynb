{
 "cells": [
  {
   "cell_type": "markdown",
   "id": "numerous-harvey",
   "metadata": {},
   "source": [
    "# 01 How many lightsabers do you own?"
   ]
  },
  {
   "cell_type": "markdown",
   "id": "convinced-designer",
   "metadata": {},
   "source": [
    "Inspired by the development team at Vooza, write the function that\n",
    "\n",
    "    accepts the name of a programmer, and\n",
    "    returns the number of lightsabers owned by that person.\n",
    "\n",
    "The only person who owns lightsabers is Zach, by the way. He owns 18, which is an awesome number of lightsabers. Anyone else owns 0.\n",
    "\n",
    "Note: your function should have a default parameter.\n",
    "\n",
    "For example(Input --> Output):\n",
    "\n",
    "\"anyone else\" --> 0<br>\n",
    "\"Zach\" --> 18\n",
    "\n",
    "Fundamentals\n"
   ]
  },
  {
   "cell_type": "code",
   "execution_count": 7,
   "id": "introductory-leave",
   "metadata": {},
   "outputs": [],
   "source": [
    "def how_many_light_sabers_do_you_own(name=\"\"):\n",
    "    if (name == \"Zach\"):\n",
    "        return 18\n",
    "    else:\n",
    "        return 0"
   ]
  },
  {
   "cell_type": "code",
   "execution_count": 8,
   "id": "hindu-reserve",
   "metadata": {},
   "outputs": [
    {
     "name": "stdout",
     "output_type": "stream",
     "text": [
      "18\n",
      "0\n",
      "0\n"
     ]
    }
   ],
   "source": [
    "print(how_many_light_sabers_do_you_own(\"Zach\"))\n",
    "print(how_many_light_sabers_do_you_own())\n",
    "print(how_many_light_sabers_do_you_own(\"zach\"))"
   ]
  },
  {
   "cell_type": "markdown",
   "id": "joint-webmaster",
   "metadata": {},
   "source": [
    "# 02 Greek Sort"
   ]
  },
  {
   "cell_type": "markdown",
   "id": "diagnostic-hunger",
   "metadata": {},
   "source": [
    "Write a comparator for a list of phonetic words for the letters of the greek alphabet.\n",
    "\n",
    "A comparator is:\n",
    "\n",
    "    a custom comparison function of two arguments (iterable elements) which should return a negative, zero or positive number depending on whether the first argument is considered smaller than, equal to, or larger than the second argument\n",
    "\n",
    "(source: https://docs.python.org/2/library/functions.html#sorted)\n",
    "\n",
    "The greek alphabet is preloded for you as greek_alphabet:\n",
    "\n",
    "greek_alphabet = (<br>\n",
    "&emsp;    'alpha', 'beta', 'gamma', 'delta', 'epsilon', 'zeta',<br>\n",
    "&emsp;    'eta', 'theta', 'iota', 'kappa', 'lambda', 'mu',<br>\n",
    "&emsp;    'nu', 'xi', 'omicron', 'pi', 'rho', 'sigma',<br>\n",
    "&emsp;    'tau', 'upsilon', 'phi', 'chi', 'psi', 'omega')<br>\n",
    "\n",
    "Examples\n",
    "\n",
    "    greek_comparator('alpha', 'beta')   <  0<br>\n",
    "    greek_comparator('psi', 'psi')      == 0<br>\n",
    "    greek_comparator('upsilon', 'rho')  >  0<br>\n",
    "\n",
    "Fundamentals"
   ]
  },
  {
   "cell_type": "code",
   "execution_count": 57,
   "id": "breeding-ratio",
   "metadata": {},
   "outputs": [],
   "source": [
    "greek_alphabet = (\n",
    "    'alpha', 'beta', 'gamma', 'delta', 'epsilon', 'zeta', \n",
    "    'eta', 'theta', 'iota', 'kappa', 'lambda', 'mu', \n",
    "    'nu', 'xi', 'omicron', 'pi', 'rho', 'sigma',\n",
    "    'tau', 'upsilon', 'phi', 'chi', 'psi', 'omega')"
   ]
  },
  {
   "cell_type": "code",
   "execution_count": 58,
   "id": "nuclear-healing",
   "metadata": {},
   "outputs": [],
   "source": [
    "def greek_comparator(lhs, rhs):\n",
    "    # the tuple greek_alphabet is defined in the global namespace\n",
    "    return int(greek_alphabet.index(lhs)) - int(greek_alphabet.index(rhs))"
   ]
  },
  {
   "cell_type": "code",
   "execution_count": 59,
   "id": "outside-joining",
   "metadata": {},
   "outputs": [
    {
     "name": "stdout",
     "output_type": "stream",
     "text": [
      "-1\n",
      "0\n",
      "3\n"
     ]
    }
   ],
   "source": [
    "print(greek_comparator('alpha', 'beta'))\n",
    "print(greek_comparator('psi', 'psi'))\n",
    "print(greek_comparator('upsilon', 'rho'))"
   ]
  },
  {
   "cell_type": "markdown",
   "id": "common-latex",
   "metadata": {},
   "source": [
    "# 03 Vowel remover"
   ]
  },
  {
   "cell_type": "markdown",
   "id": "heavy-investor",
   "metadata": {},
   "source": [
    "Create a function called shortcut to remove all the lowercase vowels in a given string.\n",
    "Examples:\n",
    "\n",
    "    shortcut(\"codewars\") # --> cdwrs\n",
    "    shortcut(\"goodbye\")  # --> gdby\n",
    "\n",
    "Don't worry about uppercase vowels.\n",
    "\n",
    "Fundamentals \n",
    "Strings \n",
    "Parsing \n",
    "Algorithms "
   ]
  },
  {
   "cell_type": "code",
   "execution_count": 74,
   "id": "convinced-equilibrium",
   "metadata": {},
   "outputs": [
    {
     "name": "stdout",
     "output_type": "stream",
     "text": [
      "hll\n"
     ]
    }
   ],
   "source": [
    "def shortcut( s ):\n",
    "    return s.translate( {ord(i):  None   for i in 'aeiou'}  )\n",
    "\n",
    "print(shortcut(\"hello\"))"
   ]
  },
  {
   "cell_type": "markdown",
   "id": "hazardous-transportation",
   "metadata": {},
   "source": [
    "# Opposites Attract"
   ]
  },
  {
   "cell_type": "markdown",
   "id": "acknowledged-kelly",
   "metadata": {},
   "source": [
    "Timmy & Sarah think they are in love, but around where they live, they will only know once they pick a flower each. If one of the flowers has an even number of petals and the other has an odd number of petals it means they are in love.\n",
    "\n",
    "Write a function that will take the number of petals of each flower and return true if they are in love and false if they aren't.\n"
   ]
  },
  {
   "cell_type": "code",
   "execution_count": 4,
   "id": "ongoing-association",
   "metadata": {},
   "outputs": [
    {
     "name": "stdout",
     "output_type": "stream",
     "text": [
      "True\n",
      "False\n",
      "True\n",
      "False\n"
     ]
    }
   ],
   "source": [
    "def lovefunc( flower1, flower2 ):\n",
    "    if (flower1%2 == 0 and flower2%2!=0):\n",
    "        return True\n",
    "    elif (flower1%2 != 0 and flower2%2 == 0):\n",
    "        return True\n",
    "    else:\n",
    "        return False\n",
    "\n",
    "print(lovefunc(1,4))\n",
    "print(lovefunc(2,2))\n",
    "print(lovefunc(0,1))\n",
    "print(lovefunc(0,0))"
   ]
  },
  {
   "cell_type": "code",
   "execution_count": 5,
   "id": "muslim-developer",
   "metadata": {},
   "outputs": [
    {
     "name": "stdout",
     "output_type": "stream",
     "text": [
      "1\n",
      "0\n",
      "1\n",
      "0\n"
     ]
    }
   ],
   "source": [
    "def lovefunc( flower1, flower2 ):\n",
    "    return (flower1+flower2)%2\n",
    "\n",
    "print(lovefunc(1,4))\n",
    "print(lovefunc(2,2))\n",
    "print(lovefunc(0,1))\n",
    "print(lovefunc(0,0))"
   ]
  },
  {
   "cell_type": "markdown",
   "id": "light-complexity",
   "metadata": {},
   "source": [
    "# Keep Hydrated!"
   ]
  },
  {
   "cell_type": "markdown",
   "id": "assumed-enlargement",
   "metadata": {},
   "source": [
    "Nathan loves cycling.\n",
    "\n",
    "Because Nathan knows it is important to stay hydrated, he drinks 0.5 litres of water per hour of cycling.\n",
    "\n",
    "You get given the time in hours and you need to return the number of litres Nathan will drink, rounded to the smallest value.\n",
    "\n",
    "For example:\n",
    "\n",
    "time = 3 ----> litres = 1\n",
    "\n",
    "time = 6.7---> litres = 3\n",
    "\n",
    "time = 11.8--> litres = 5\n",
    "\n",
    "Fundamentals\n",
    "Algorithms\n",
    "Mathematics\n",
    "Numbers"
   ]
  },
  {
   "cell_type": "code",
   "execution_count": 9,
   "id": "valued-ideal",
   "metadata": {},
   "outputs": [
    {
     "name": "stdout",
     "output_type": "stream",
     "text": [
      "1\n",
      "0\n",
      "6\n",
      "0\n",
      "5\n",
      "893\n",
      "0\n"
     ]
    }
   ],
   "source": [
    "def litres(time):\n",
    "    return int(time * .5)\n",
    "\n",
    "\n",
    "\n",
    "print(litres(2))    # 1 , 'should return 1 litre')\n",
    "print(litres(1.4))  # 0, 'should return 0 litres')\n",
    "print(litres(12.3)) #, 6, 'should return 6 litres')\n",
    "print(litres(0.82)) #, 0, 'should return 0 litres')\n",
    "print(litres(11.8)) #, 5, 'should return 5 litres')\n",
    "print(litres(1787)) #, 893, 'should return 893 litres')\n",
    "print(litres(0))    # 0  , 'should return 0 litres')"
   ]
  },
  {
   "cell_type": "markdown",
   "id": "serial-segment",
   "metadata": {},
   "source": [
    "# Alan Partridge II - Apple Turnover"
   ]
  },
  {
   "cell_type": "markdown",
   "id": "further-english",
   "metadata": {},
   "source": [
    "\n",
    "\n",
    "As a treat, I'll let you read part of the script from a classic 'I'm Alan Partridge episode:\n",
    "\n",
    "Lynn: Alan, there’s that teacher chap.\n",
    "Alan: Michael, if he hits me, will you hit him first?\n",
    "Michael: No, he’s a customer. I cannot hit customers. I’ve been told. I’ll go and get some stock.\n",
    "Alan: Yeah, chicken stock.\n",
    "Phil: Hello Alan.\n",
    "Alan: Lynn, hand me an apple pie. And remove yourself from the theatre of conflict.\n",
    "Lynn: What do you mean?\n",
    "Alan: Go and stand by the yakults. The temperature inside this apple turnover is 1,000 degrees. If I squeeze it, a jet of molten Bramley apple is going to squirt out. Could go your way, could go mine. Either way, one of us is going down.\n",
    "\n",
    "Alan is known for referring to the temperature of the apple turnover as 'Hotter than the sun!'. According to space.com the temperature of the sun's corona is 2,000,000 degrees C, but we will ignore the science for now.\n",
    "\n",
    "Your job is simple, if (x) squared is more than 1000, return 'It's hotter than the sun!!', else, return 'Help yourself to a honeycomb Yorkie for the glovebox.'.\n",
    "\n",
    "X will be a valid integer number.\n",
    "\n",
    "X will be either a number or a string. Both are valid.\n",
    "\n",
    "Other katas in this series:\n",
    "\n",
    "Alan Partridge I - Partridge Watch\n",
    "Alan Partridge III - London\n",
    "Fundamentals\n",
    "Numbers\n",
    "Strings\n",
    "Mathematics\n",
    "Algorithms"
   ]
  },
  {
   "cell_type": "code",
   "execution_count": 15,
   "id": "curious-vegetation",
   "metadata": {},
   "outputs": [
    {
     "name": "stdout",
     "output_type": "stream",
     "text": [
      "It's hotter than the sun!!\n",
      "Help yourself to a honeycomb Yorkie for the glovebox.\n",
      "Help yourself to a honeycomb Yorkie for the glovebox.\n",
      "It's hotter than the sun!!\n"
     ]
    }
   ],
   "source": [
    "def apple(x):\n",
    "    if (int(x)**2 > 1000):\n",
    "        return (\"It's hotter than the sun!!\")\n",
    "    else:\n",
    "        return (\"Help yourself to a honeycomb Yorkie for the glovebox.\")\n",
    "    \n",
    "print(apple('50')) #, \"It's hotter than the sun!!\")\n",
    "print(apple(4))    #, \"Help yourself to a honeycomb Yorkie for the glovebox.\")\n",
    "print(apple(\"12\")) #, \"Help yourself to a honeycomb Yorkie for the glovebox.\")\n",
    "print(apple(60))   #, \"It's hotter than the sun!!\")"
   ]
  },
  {
   "cell_type": "code",
   "execution_count": null,
   "id": "convertible-privacy",
   "metadata": {},
   "outputs": [],
   "source": []
  },
  {
   "cell_type": "code",
   "execution_count": null,
   "id": "boring-bathroom",
   "metadata": {},
   "outputs": [],
   "source": []
  }
 ],
 "metadata": {
  "kernelspec": {
   "display_name": "Python 3",
   "language": "python",
   "name": "python3"
  }
 },
 "nbformat": 4,
 "nbformat_minor": 5
}
